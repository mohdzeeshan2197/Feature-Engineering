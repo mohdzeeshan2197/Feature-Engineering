{
 "cells": [
  {
   "cell_type": "markdown",
   "id": "8c0cd017",
   "metadata": {},
   "source": [
    "# Q1. Pearson correlation coefficient is a measure of the linear relationship between two variables. Suppose you have collected data on the amount of time students spend studying for an exam and their final exam scores. Calculate the Pearson correlation coefficient between these two variables and interpret the result."
   ]
  },
  {
   "cell_type": "markdown",
   "id": "d34b95f8",
   "metadata": {},
   "source": [
    "To calculate the Pearson correlation coefficient between two variables, you need to use the following formula:\n",
    "\n",
    "r = (nΣXY - ΣXΣY) / sqrt((nΣX^2 - (ΣX)^2)(nΣY^2 - (ΣY)^2))\n",
    "\n",
    "  Where:\n",
    "\n",
    "r is the Pearson correlation coefficient\n",
    "n is the number of observations\n",
    "ΣXY is the sum of the product of the values of the two variables\n",
    "ΣX and ΣY are the sum of the values of the two variables, respectively\n",
    "ΣX^2 and ΣY^2 are the sum of the squares of the values of the two variables, respectively\n",
    "Assuming you have a sample of n observations, you can calculate the sample Pearson correlation coefficient between the amount of time students spend studying for an exam (X) and their final exam scores (Y) as follows:\n",
    "\n",
    "Calculate the means of X and Y\n",
    "Calculate the standard deviations of X and Y\n",
    "Calculate ΣXY, ΣX, ΣY, ΣX^2, and ΣY^2 using the sample data\n",
    "Plug these values into the formula above to calculate r\n",
    "To interpret the result, the Pearson correlation coefficient, r, ranges from -1 to 1, where -1 indicates a perfect negative linear relationship, 0 indicates no linear relationship, and 1 indicates a perfect positive linear relationship between the two variables.\n",
    "\n",
    "A positive Pearson correlation coefficient between the amount of time students spend studying for an exam and their final exam scores means that there is a positive linear relationship between the two variables, i.e., as the amount of time spent studying increases, the final exam score tends to increase as well. On the other hand, a negative Pearson correlation coefficient indicates a negative linear relationship, i.e., as the amount of time spent studying increases, the final exam score tends to decrease. A Pearson correlation coefficient close to zero indicates no linear relationship between the two variables.\n",
    "\n",
    "However, it is important to note that correlation does not necessarily imply causation, and other factors might be affecting the final exam scores."
   ]
  },
  {
   "cell_type": "markdown",
   "id": "eb513d9b",
   "metadata": {},
   "source": [
    "# Q2. Spearman's rank correlation is a measure of the monotonic relationship between two variables. Suppose you have collected data on the amount of sleep individuals get each night and their overall job satisfaction level on a scale of 1 to 10. Calculate the Spearman's rank correlation between these two variables and interpret the result."
   ]
  },
  {
   "cell_type": "markdown",
   "id": "3802b3fb",
   "metadata": {},
   "source": [
    "Spearman's rank correlation is a non-parametric measure of the monotonic relationship between two variables. It is often used when the relationship between two variables is not linear but rather follows a monotonic pattern, i.e., as one variable increases, the other variable either increases or decreases in a consistent manner.\n",
    "\n",
    "To calculate the Spearman's rank correlation coefficient between the amount of sleep individuals get each night (X) and their overall job satisfaction level (Y), you need to perform the following steps:\n",
    "\n",
    "1.Rank the observations for each variable separately, from smallest to largest.\n",
    "\n",
    "2.Assign a rank of 1 to the smallest value, 2 to the second smallest value, and so on, until the largest value is assigned a rank of n.\n",
    "\n",
    "3.Calculate the difference in ranks for each observation (d), i.e., d = rank(X) - rank(Y).\n",
    "\n",
    "4.Calculate the Spearman's rank correlation coefficient (rs) using the following formula:\n",
    "rs = 1 - (6 * Σd^2) / (n * (n^2 - 1))\n",
    "\n",
    "where n is the number of observations.\n",
    "\n",
    "To interpret the result, the Spearman's rank correlation coefficient (rs) ranges from -1 to 1, where -1 indicates a perfect negative monotonic relationship, 0 indicates no monotonic relationship, and 1 indicates a perfect positive monotonic relationship between the two variables.\n",
    "\n",
    "A positive Spearman's rank correlation coefficient between the amount of sleep individuals get each night and their overall job satisfaction level means that as the amount of sleep increases, the job satisfaction level tends to increase as well (or as the amount of sleep decreases, the job satisfaction level tends to decrease). On the other hand, a negative Spearman's rank correlation coefficient indicates that as the amount of sleep increases, the job satisfaction level tends to decrease (or as the amount of sleep decreases, the job satisfaction level tends to increase).\n",
    "\n",
    "However, it is important to note that correlation does not necessarily imply causation, and other factors might be affecting the job satisfaction level."
   ]
  },
  {
   "cell_type": "markdown",
   "id": "4803c86f",
   "metadata": {},
   "source": [
    "# Q3. Suppose you are conducting a study to examine the relationship between the number of hours of exercise per week and body mass index (BMI) in a sample of adults. You collected data on both variables for 50 participants. Calculate the Pearson correlation coefficient and the Spearman's rank correlation between these two variables and compare the results."
   ]
  },
  {
   "cell_type": "markdown",
   "id": "184c8f7c",
   "metadata": {},
   "source": [
    "To calculate the Pearson correlation coefficient between the number of hours of exercise per week and body mass index in the sample of 50 participants, we need to use the formula:\n",
    "\n",
    "        r = (nΣXY - ΣXΣY) / sqrt((nΣX^2 - (ΣX)^2)(nΣY^2 - (ΣY)^2))\n",
    "\n",
    "where:\n",
    "\n",
    "r is the Pearson correlation coefficient\n",
    "n is the number of observations\n",
    "ΣXY is the sum of the product of the values of the two variables\n",
    "ΣX and ΣY are the sum of the values of the two variables, respectively\n",
    "ΣX^2 and ΣY^2 are the sum of the squares of the values of the two variables, respectively\n",
    "To calculate the Spearman's rank correlation coefficient, we need to perform the following steps:\n",
    "\n",
    "1.Rank the observations for each variable separately, from smallest to largest.\n",
    "\n",
    "2.Assign a rank of 1 to the smallest value, 2 to the second smallest value, and so on, until the largest value is assigned a rank of n.\n",
    "\n",
    "3.Calculate the difference in ranks for each observation (d), i.e., d = rank(X) - rank(Y).\n",
    "\n",
    "4.Calculate the Spearman's rank correlation coefficient (rs) using the formula:\n",
    "rs = 1 - (6 * Σd^2) / (n * (n^2 - 1))\n",
    "\n",
    "where n is the number of observations.\n",
    "\n",
    "After calculating the Pearson correlation coefficient and Spearman's rank correlation coefficient, we can compare the results. If the relationship between the two variables is linear, we would expect the Pearson correlation coefficient to be higher. However, if the relationship between the two variables is non-linear or the data is skewed, we would expect the Spearman's rank correlation coefficient to be higher.\n",
    "\n",
    "Let's assume that the Pearson correlation coefficient is 0.6, indicating a moderate positive linear relationship between the number of hours of exercise per week and BMI. On the other hand, the Spearman's rank correlation coefficient is 0.7, indicating a stronger positive monotonic relationship between the two variables. This could be due to the fact that the relationship between the number of hours of exercise per week and BMI is not strictly linear, and the Spearman's rank correlation coefficient is able to capture a wider range of possible relationships.\n",
    "\n",
    "In summary, when comparing the Pearson correlation coefficient and Spearman's rank correlation coefficient, it is important to consider the nature of the relationship between the two variables and the underlying distribution of the data. If the relationship is linear, the Pearson correlation coefficient may be more appropriate, while if the relationship is non-linear or skewed, the Spearman's rank correlation coefficient may be more appropriate."
   ]
  },
  {
   "cell_type": "markdown",
   "id": "511463bf",
   "metadata": {},
   "source": [
    "# Q4. A researcher is interested in examining the relationship between the number of hours individuals spend watching television per day and their level of physical activity. The researcher collected data on both variables from a sample of 50 participants. Calculate the Pearson correlation coefficient between these two variables."
   ]
  },
  {
   "cell_type": "markdown",
   "id": "e28e347f",
   "metadata": {},
   "source": [
    "To calculate the Pearson correlation coefficient between the number of hours individuals spend watching television per day and their level of physical activity in the sample of 50 participants, we need to use the formula:\n",
    "\n",
    "          r = (nΣXY - ΣXΣY) / sqrt((nΣX^2 - (ΣX)^2)(nΣY^2 - (ΣY)^2))\n",
    "\n",
    "where:\n",
    "\n",
    "r is the Pearson correlation coefficient\n",
    "n is the number of observations\n",
    "ΣXY is the sum of the product of the values of the two variables\n",
    "ΣX and ΣY are the sum of the values of the two variables, respectively\n",
    "ΣX^2 and ΣY^2 are the sum of the squares of the values of the two variables, respectively\n",
    "Let's assume that the researcher found that the sample correlation coefficient, r, is -0.4. This indicates that there is a negative correlation between the number of hours individuals spend watching television per day and their level of physical activity. Specifically, as the number of hours spent watching television per day increases, the level of physical activity tends to decrease.\n",
    "\n",
    "It is important to note that correlation does not imply causation. In this case, we cannot conclude that watching television causes individuals to be less physically active, as there may be other factors that are influencing the relationship between these two variables. Therefore, further research and analysis would be needed to establish a causal relationship between television viewing and physical activity."
   ]
  },
  {
   "cell_type": "markdown",
   "id": "cbd070b3",
   "metadata": {},
   "source": [
    "# Q5. A survey was conducted to examine the relationship between age and preference for a particular brand of soft drink. The survey results are shown below:"
   ]
  },
  {
   "cell_type": "code",
   "execution_count": null,
   "id": "92ace8a8",
   "metadata": {},
   "outputs": [],
   "source": [
    "Age(Years)\n",
    "25 Coke\n",
    "42 Pepsi\n",
    "37\n",
    "19\n",
    "31\n",
    "28\n",
    "\n",
    "Mountain dew\n",
    "Coke\n",
    "Pepsi\n",
    "Coke"
   ]
  },
  {
   "cell_type": "code",
   "execution_count": 2,
   "id": "ec4c343b",
   "metadata": {},
   "outputs": [],
   "source": [
    "import pandas as pd"
   ]
  },
  {
   "cell_type": "code",
   "execution_count": 4,
   "id": "1e34076a",
   "metadata": {},
   "outputs": [],
   "source": [
    "df = pd.DataFrame({'Age(years)':[25,42,37,19,31,28],'Soft Drink Prefrenece':['coke','pepsi','mountain dew','coke','pepsi','coke']})"
   ]
  },
  {
   "cell_type": "code",
   "execution_count": 6,
   "id": "02871ce1",
   "metadata": {},
   "outputs": [
    {
     "data": {
      "text/html": [
       "<div>\n",
       "<style scoped>\n",
       "    .dataframe tbody tr th:only-of-type {\n",
       "        vertical-align: middle;\n",
       "    }\n",
       "\n",
       "    .dataframe tbody tr th {\n",
       "        vertical-align: top;\n",
       "    }\n",
       "\n",
       "    .dataframe thead th {\n",
       "        text-align: right;\n",
       "    }\n",
       "</style>\n",
       "<table border=\"1\" class=\"dataframe\">\n",
       "  <thead>\n",
       "    <tr style=\"text-align: right;\">\n",
       "      <th></th>\n",
       "      <th>Age(years)</th>\n",
       "      <th>Soft Drink Prefrenece</th>\n",
       "    </tr>\n",
       "  </thead>\n",
       "  <tbody>\n",
       "    <tr>\n",
       "      <th>0</th>\n",
       "      <td>25</td>\n",
       "      <td>coke</td>\n",
       "    </tr>\n",
       "    <tr>\n",
       "      <th>1</th>\n",
       "      <td>42</td>\n",
       "      <td>pepsi</td>\n",
       "    </tr>\n",
       "    <tr>\n",
       "      <th>2</th>\n",
       "      <td>37</td>\n",
       "      <td>mountain dew</td>\n",
       "    </tr>\n",
       "    <tr>\n",
       "      <th>3</th>\n",
       "      <td>19</td>\n",
       "      <td>coke</td>\n",
       "    </tr>\n",
       "    <tr>\n",
       "      <th>4</th>\n",
       "      <td>31</td>\n",
       "      <td>pepsi</td>\n",
       "    </tr>\n",
       "    <tr>\n",
       "      <th>5</th>\n",
       "      <td>28</td>\n",
       "      <td>coke</td>\n",
       "    </tr>\n",
       "  </tbody>\n",
       "</table>\n",
       "</div>"
      ],
      "text/plain": [
       "   Age(years) Soft Drink Prefrenece\n",
       "0          25                  coke\n",
       "1          42                 pepsi\n",
       "2          37          mountain dew\n",
       "3          19                  coke\n",
       "4          31                 pepsi\n",
       "5          28                  coke"
      ]
     },
     "execution_count": 6,
     "metadata": {},
     "output_type": "execute_result"
    }
   ],
   "source": [
    "df"
   ]
  },
  {
   "cell_type": "code",
   "execution_count": 7,
   "id": "ca845f56",
   "metadata": {},
   "outputs": [
    {
     "name": "stderr",
     "output_type": "stream",
     "text": [
      "C:\\Users\\Let\\AppData\\Local\\Temp\\ipykernel_8200\\1545644723.py:1: FutureWarning: The default value of numeric_only in DataFrame.cov is deprecated. In a future version, it will default to False. Select only valid columns or specify the value of numeric_only to silence this warning.\n",
      "  df.cov()\n"
     ]
    },
    {
     "data": {
      "text/html": [
       "<div>\n",
       "<style scoped>\n",
       "    .dataframe tbody tr th:only-of-type {\n",
       "        vertical-align: middle;\n",
       "    }\n",
       "\n",
       "    .dataframe tbody tr th {\n",
       "        vertical-align: top;\n",
       "    }\n",
       "\n",
       "    .dataframe thead th {\n",
       "        text-align: right;\n",
       "    }\n",
       "</style>\n",
       "<table border=\"1\" class=\"dataframe\">\n",
       "  <thead>\n",
       "    <tr style=\"text-align: right;\">\n",
       "      <th></th>\n",
       "      <th>Age(years)</th>\n",
       "    </tr>\n",
       "  </thead>\n",
       "  <tbody>\n",
       "    <tr>\n",
       "      <th>Age(years)</th>\n",
       "      <td>68.666667</td>\n",
       "    </tr>\n",
       "  </tbody>\n",
       "</table>\n",
       "</div>"
      ],
      "text/plain": [
       "            Age(years)\n",
       "Age(years)   68.666667"
      ]
     },
     "execution_count": 7,
     "metadata": {},
     "output_type": "execute_result"
    }
   ],
   "source": [
    "df.cov()"
   ]
  },
  {
   "cell_type": "code",
   "execution_count": 8,
   "id": "45551150",
   "metadata": {},
   "outputs": [
    {
     "name": "stderr",
     "output_type": "stream",
     "text": [
      "C:\\Users\\Let\\AppData\\Local\\Temp\\ipykernel_8200\\4096930676.py:1: FutureWarning: The default value of numeric_only in DataFrame.corr is deprecated. In a future version, it will default to False. Select only valid columns or specify the value of numeric_only to silence this warning.\n",
      "  df.corr(method= 'pearson')\n"
     ]
    },
    {
     "data": {
      "text/html": [
       "<div>\n",
       "<style scoped>\n",
       "    .dataframe tbody tr th:only-of-type {\n",
       "        vertical-align: middle;\n",
       "    }\n",
       "\n",
       "    .dataframe tbody tr th {\n",
       "        vertical-align: top;\n",
       "    }\n",
       "\n",
       "    .dataframe thead th {\n",
       "        text-align: right;\n",
       "    }\n",
       "</style>\n",
       "<table border=\"1\" class=\"dataframe\">\n",
       "  <thead>\n",
       "    <tr style=\"text-align: right;\">\n",
       "      <th></th>\n",
       "      <th>Age(years)</th>\n",
       "    </tr>\n",
       "  </thead>\n",
       "  <tbody>\n",
       "    <tr>\n",
       "      <th>Age(years)</th>\n",
       "      <td>1.0</td>\n",
       "    </tr>\n",
       "  </tbody>\n",
       "</table>\n",
       "</div>"
      ],
      "text/plain": [
       "            Age(years)\n",
       "Age(years)         1.0"
      ]
     },
     "execution_count": 8,
     "metadata": {},
     "output_type": "execute_result"
    }
   ],
   "source": [
    "df.corr(method= 'pearson')"
   ]
  },
  {
   "cell_type": "code",
   "execution_count": 9,
   "id": "87dba51e",
   "metadata": {},
   "outputs": [
    {
     "name": "stderr",
     "output_type": "stream",
     "text": [
      "C:\\Users\\Let\\AppData\\Local\\Temp\\ipykernel_8200\\1222267885.py:1: FutureWarning: The default value of numeric_only in DataFrame.corr is deprecated. In a future version, it will default to False. Select only valid columns or specify the value of numeric_only to silence this warning.\n",
      "  df.corr(method='spearman')\n"
     ]
    },
    {
     "data": {
      "text/html": [
       "<div>\n",
       "<style scoped>\n",
       "    .dataframe tbody tr th:only-of-type {\n",
       "        vertical-align: middle;\n",
       "    }\n",
       "\n",
       "    .dataframe tbody tr th {\n",
       "        vertical-align: top;\n",
       "    }\n",
       "\n",
       "    .dataframe thead th {\n",
       "        text-align: right;\n",
       "    }\n",
       "</style>\n",
       "<table border=\"1\" class=\"dataframe\">\n",
       "  <thead>\n",
       "    <tr style=\"text-align: right;\">\n",
       "      <th></th>\n",
       "      <th>Age(years)</th>\n",
       "    </tr>\n",
       "  </thead>\n",
       "  <tbody>\n",
       "    <tr>\n",
       "      <th>Age(years)</th>\n",
       "      <td>1.0</td>\n",
       "    </tr>\n",
       "  </tbody>\n",
       "</table>\n",
       "</div>"
      ],
      "text/plain": [
       "            Age(years)\n",
       "Age(years)         1.0"
      ]
     },
     "execution_count": 9,
     "metadata": {},
     "output_type": "execute_result"
    }
   ],
   "source": [
    "df.corr(method='spearman')"
   ]
  },
  {
   "cell_type": "code",
   "execution_count": 11,
   "id": "9c796b57",
   "metadata": {},
   "outputs": [],
   "source": [
    "import seaborn as sns"
   ]
  },
  {
   "cell_type": "code",
   "execution_count": 12,
   "id": "55c84da1",
   "metadata": {},
   "outputs": [
    {
     "data": {
      "text/plain": [
       "<Axes: >"
      ]
     },
     "execution_count": 12,
     "metadata": {},
     "output_type": "execute_result"
    },
    {
     "data": {
      "image/png": "[encoded data removed]",
      "text/plain": [
       "<Figure size 640x480 with 1 Axes>"
      ]
     },
     "metadata": {},
     "output_type": "display_data"
    }
   ],
   "source": [
    "sns.scatterplot(df)"
   ]
  },
  {
   "cell_type": "code",
   "execution_count": 22,
   "id": "8ec83fe1",
   "metadata": {},
   "outputs": [
    {
     "data": {
      "text/plain": [
       "<Axes: ylabel='Count'>"
      ]
     },
     "execution_count": 22,
     "metadata": {},
     "output_type": "execute_result"
    },
    {
     "data": {
      "image/png": "[encoded data removed]",
      "text/plain": [
       "<Figure size 640x480 with 1 Axes>"
      ]
     },
     "metadata": {},
     "output_type": "display_data"
    }
   ],
   "source": [
    "sns.histplot(df,kde=True)"
   ]
  },
  {
   "cell_type": "code",
   "execution_count": 20,
   "id": "81de61f3",
   "metadata": {},
   "outputs": [
    {
     "name": "stderr",
     "output_type": "stream",
     "text": [
      "C:\\Users\\Let\\AppData\\Local\\Temp\\ipykernel_8200\\1288906050.py:1: UserWarning: \n",
      "\n",
      "`distplot` is a deprecated function and will be removed in seaborn v0.14.0.\n",
      "\n",
      "Please adapt your code to use either `displot` (a figure-level function with\n",
      "similar flexibility) or `histplot` (an axes-level function for histograms).\n",
      "\n",
      "For a guide to updating your code to use the new functions, please see\n",
      "https://gist.github.com/mwaskom/de44147ed2974457ad6372750bbe5751\n",
      "\n",
      "  sns.distplot(df['Age(years)'])\n"
     ]
    },
    {
     "data": {
      "text/plain": [
       "<Axes: xlabel='Age(years)', ylabel='Density'>"
      ]
     },
     "execution_count": 20,
     "metadata": {},
     "output_type": "execute_result"
    },
    {
     "data": {
      "image/png": "[encoded data removed]",
      "text/plain": [
       "<Figure size 640x480 with 1 Axes>"
      ]
     },
     "metadata": {},
     "output_type": "display_data"
    }
   ],
   "source": [
    "sns.distplot(df['Age(years)'])"
   ]
  },
  {
   "cell_type": "markdown",
   "id": "bbed0d1e",
   "metadata": {},
   "source": [
    "# Q6. A company is interested in examining the relationship between the number of sales calls made per day and the number of sales made per week. The company collected data on both variables from a sample of 30 sales representatives. Calculate the Pearson correlation coefficient between these two variables."
   ]
  },
  {
   "cell_type": "code",
   "execution_count": 25,
   "id": "eb48c177",
   "metadata": {},
   "outputs": [],
   "source": [
    "df = pd.DataFrame({'sales calls per day' : [10, 12, 15, 11, 13, 14, 17, 19, 20, 16, 13, 12, 11, 14, 18, 21, 23, 24, 22, 19, 15, 14, 13, 16, 18, 20, 22, 21, 17, 15],'sales made per week' : [2, 3, 4, 2, 3, 4, 4, 5, 6, 4, 3, 2, 2, 3, 5, 6, 7, 8, 6, 5, 4, 3, 3, 4, 5, 6, 7, 7, 5, 4]})"
   ]
  },
  {
   "cell_type": "code",
   "execution_count": 26,
   "id": "8a5124d8",
   "metadata": {},
   "outputs": [
    {
     "data": {
      "text/html": [
       "<div>\n",
       "<style scoped>\n",
       "    .dataframe tbody tr th:only-of-type {\n",
       "        vertical-align: middle;\n",
       "    }\n",
       "\n",
       "    .dataframe tbody tr th {\n",
       "        vertical-align: top;\n",
       "    }\n",
       "\n",
       "    .dataframe thead th {\n",
       "        text-align: right;\n",
       "    }\n",
       "</style>\n",
       "<table border=\"1\" class=\"dataframe\">\n",
       "  <thead>\n",
       "    <tr style=\"text-align: right;\">\n",
       "      <th></th>\n",
       "      <th>sales calls per day</th>\n",
       "      <th>sales made per week</th>\n",
       "    </tr>\n",
       "  </thead>\n",
       "  <tbody>\n",
       "    <tr>\n",
       "      <th>0</th>\n",
       "      <td>10</td>\n",
       "      <td>2</td>\n",
       "    </tr>\n",
       "    <tr>\n",
       "      <th>1</th>\n",
       "      <td>12</td>\n",
       "      <td>3</td>\n",
       "    </tr>\n",
       "    <tr>\n",
       "      <th>2</th>\n",
       "      <td>15</td>\n",
       "      <td>4</td>\n",
       "    </tr>\n",
       "    <tr>\n",
       "      <th>3</th>\n",
       "      <td>11</td>\n",
       "      <td>2</td>\n",
       "    </tr>\n",
       "    <tr>\n",
       "      <th>4</th>\n",
       "      <td>13</td>\n",
       "      <td>3</td>\n",
       "    </tr>\n",
       "    <tr>\n",
       "      <th>5</th>\n",
       "      <td>14</td>\n",
       "      <td>4</td>\n",
       "    </tr>\n",
       "    <tr>\n",
       "      <th>6</th>\n",
       "      <td>17</td>\n",
       "      <td>4</td>\n",
       "    </tr>\n",
       "    <tr>\n",
       "      <th>7</th>\n",
       "      <td>19</td>\n",
       "      <td>5</td>\n",
       "    </tr>\n",
       "    <tr>\n",
       "      <th>8</th>\n",
       "      <td>20</td>\n",
       "      <td>6</td>\n",
       "    </tr>\n",
       "    <tr>\n",
       "      <th>9</th>\n",
       "      <td>16</td>\n",
       "      <td>4</td>\n",
       "    </tr>\n",
       "    <tr>\n",
       "      <th>10</th>\n",
       "      <td>13</td>\n",
       "      <td>3</td>\n",
       "    </tr>\n",
       "    <tr>\n",
       "      <th>11</th>\n",
       "      <td>12</td>\n",
       "      <td>2</td>\n",
       "    </tr>\n",
       "    <tr>\n",
       "      <th>12</th>\n",
       "      <td>11</td>\n",
       "      <td>2</td>\n",
       "    </tr>\n",
       "    <tr>\n",
       "      <th>13</th>\n",
       "      <td>14</td>\n",
       "      <td>3</td>\n",
       "    </tr>\n",
       "    <tr>\n",
       "      <th>14</th>\n",
       "      <td>18</td>\n",
       "      <td>5</td>\n",
       "    </tr>\n",
       "    <tr>\n",
       "      <th>15</th>\n",
       "      <td>21</td>\n",
       "      <td>6</td>\n",
       "    </tr>\n",
       "    <tr>\n",
       "      <th>16</th>\n",
       "      <td>23</td>\n",
       "      <td>7</td>\n",
       "    </tr>\n",
       "    <tr>\n",
       "      <th>17</th>\n",
       "      <td>24</td>\n",
       "      <td>8</td>\n",
       "    </tr>\n",
       "    <tr>\n",
       "      <th>18</th>\n",
       "      <td>22</td>\n",
       "      <td>6</td>\n",
       "    </tr>\n",
       "    <tr>\n",
       "      <th>19</th>\n",
       "      <td>19</td>\n",
       "      <td>5</td>\n",
       "    </tr>\n",
       "    <tr>\n",
       "      <th>20</th>\n",
       "      <td>15</td>\n",
       "      <td>4</td>\n",
       "    </tr>\n",
       "    <tr>\n",
       "      <th>21</th>\n",
       "      <td>14</td>\n",
       "      <td>3</td>\n",
       "    </tr>\n",
       "    <tr>\n",
       "      <th>22</th>\n",
       "      <td>13</td>\n",
       "      <td>3</td>\n",
       "    </tr>\n",
       "    <tr>\n",
       "      <th>23</th>\n",
       "      <td>16</td>\n",
       "      <td>4</td>\n",
       "    </tr>\n",
       "    <tr>\n",
       "      <th>24</th>\n",
       "      <td>18</td>\n",
       "      <td>5</td>\n",
       "    </tr>\n",
       "    <tr>\n",
       "      <th>25</th>\n",
       "      <td>20</td>\n",
       "      <td>6</td>\n",
       "    </tr>\n",
       "    <tr>\n",
       "      <th>26</th>\n",
       "      <td>22</td>\n",
       "      <td>7</td>\n",
       "    </tr>\n",
       "    <tr>\n",
       "      <th>27</th>\n",
       "      <td>21</td>\n",
       "      <td>7</td>\n",
       "    </tr>\n",
       "    <tr>\n",
       "      <th>28</th>\n",
       "      <td>17</td>\n",
       "      <td>5</td>\n",
       "    </tr>\n",
       "    <tr>\n",
       "      <th>29</th>\n",
       "      <td>15</td>\n",
       "      <td>4</td>\n",
       "    </tr>\n",
       "  </tbody>\n",
       "</table>\n",
       "</div>"
      ],
      "text/plain": [
       "    sales calls per day  sales made per week\n",
       "0                    10                    2\n",
       "1                    12                    3\n",
       "2                    15                    4\n",
       "3                    11                    2\n",
       "4                    13                    3\n",
       "5                    14                    4\n",
       "6                    17                    4\n",
       "7                    19                    5\n",
       "8                    20                    6\n",
       "9                    16                    4\n",
       "10                   13                    3\n",
       "11                   12                    2\n",
       "12                   11                    2\n",
       "13                   14                    3\n",
       "14                   18                    5\n",
       "15                   21                    6\n",
       "16                   23                    7\n",
       "17                   24                    8\n",
       "18                   22                    6\n",
       "19                   19                    5\n",
       "20                   15                    4\n",
       "21                   14                    3\n",
       "22                   13                    3\n",
       "23                   16                    4\n",
       "24                   18                    5\n",
       "25                   20                    6\n",
       "26                   22                    7\n",
       "27                   21                    7\n",
       "28                   17                    5\n",
       "29                   15                    4"
      ]
     },
     "execution_count": 26,
     "metadata": {},
     "output_type": "execute_result"
    }
   ],
   "source": [
    "df"
   ]
  },
  {
   "cell_type": "code",
   "execution_count": 28,
   "id": "669d8cef",
   "metadata": {},
   "outputs": [
    {
     "data": {
      "text/html": [
       "<div>\n",
       "<style scoped>\n",
       "    .dataframe tbody tr th:only-of-type {\n",
       "        vertical-align: middle;\n",
       "    }\n",
       "\n",
       "    .dataframe tbody tr th {\n",
       "        vertical-align: top;\n",
       "    }\n",
       "\n",
       "    .dataframe thead th {\n",
       "        text-align: right;\n",
       "    }\n",
       "</style>\n",
       "<table border=\"1\" class=\"dataframe\">\n",
       "  <thead>\n",
       "    <tr style=\"text-align: right;\">\n",
       "      <th></th>\n",
       "      <th>sales calls per day</th>\n",
       "      <th>sales made per week</th>\n",
       "    </tr>\n",
       "  </thead>\n",
       "  <tbody>\n",
       "    <tr>\n",
       "      <th>sales calls per day</th>\n",
       "      <td>1.00000</td>\n",
       "      <td>0.97575</td>\n",
       "    </tr>\n",
       "    <tr>\n",
       "      <th>sales made per week</th>\n",
       "      <td>0.97575</td>\n",
       "      <td>1.00000</td>\n",
       "    </tr>\n",
       "  </tbody>\n",
       "</table>\n",
       "</div>"
      ],
      "text/plain": [
       "                     sales calls per day  sales made per week\n",
       "sales calls per day              1.00000              0.97575\n",
       "sales made per week              0.97575              1.00000"
      ]
     },
     "execution_count": 28,
     "metadata": {},
     "output_type": "execute_result"
    }
   ],
   "source": [
    "df.corr(method= 'pearson')"
   ]
  }
 ],
 "metadata": {
  "kernelspec": {
   "display_name": "Python 3 (ipykernel)",
   "language": "python",
   "name": "python3"
  },
  "language_info": {
   "codemirror_mode": {
    "name": "ipython",
    "version": 3
   },
   "file_extension": ".py",
   "mimetype": "text/x-python",
   "name": "python",
   "nbconvert_exporter": "python",
   "pygments_lexer": "ipython3",
   "version": "3.9.16"
  }
 },
 "nbformat": 4,
 "nbformat_minor": 5
}
